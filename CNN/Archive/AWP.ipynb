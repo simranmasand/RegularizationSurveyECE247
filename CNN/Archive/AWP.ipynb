{
 "cells": [
  {
   "cell_type": "code",
   "execution_count": 2,
   "id": "4104ff0e",
   "metadata": {},
   "outputs": [
    {
     "name": "stdout",
     "output_type": "stream",
     "text": [
      "Requirement already satisfied: progress in /Users/simranmasand/opt/anaconda3/lib/python3.9/site-packages (1.6)\r\n"
     ]
    }
   ],
   "source": [
    "import matplotlib.pyplot as plt\n",
    "!pip install progress\n",
    "#!git clone https://github.com/csdongxian/AWP.git"
   ]
  },
  {
   "cell_type": "code",
   "execution_count": 14,
   "id": "5be89dae",
   "metadata": {},
   "outputs": [
    {
     "name": "stdout",
     "output_type": "stream",
     "text": [
      "[2023/03/15 02:34:22] - Namespace(model='Resnet-20', l2=0, l1=0, batch_size=128, batch_size_test=128, data_dir='DATASET_DIR', epochs=200, lr_schedule='piecewise', lr_max=0.1, lr_one_drop=0.01, lr_drop_epoch=100, attack='pgd', epsilon=8, attack_iters=10, attack_iters_test=20, restarts=1, pgd_alpha=2, fgsm_alpha=1.25, norm='l_inf', fgsm_init='random', fname='cifar_model', seed=0, half=False, width_factor=10, resume=0, cutout=False, cutout_len=None, mixup=False, mixup_alpha=None, eval=False, val=False, chkpt_iters=10, awp_gamma=0.01, awp_warmup=0)\n",
      "Files already downloaded and verified\n",
      "Files already downloaded and verified\n",
      "Using cache found in /Users/simranmasand/.cache/torch/hub/chenyaofo_pytorch-cifar-models_master\n",
      "Using cache found in /Users/simranmasand/.cache/torch/hub/chenyaofo_pytorch-cifar-models_master\n",
      "[2023/03/15 02:34:26] - Epoch \t Train Time \t Test Time \t LR \t \t Train Loss \t Train Acc \t Train Robust Loss \t Train Robust Acc \t Test Loss \t Test Acc \t Test Robust Loss \t Test Robust Acc\n"
     ]
    }
   ],
   "source": [
    "!python AWP/AT_AWP/train_cifar10.py --model 'Resnet-20' --data CIFAR10 --data-dir DATASET_DIR\n"
   ]
  },
  {
   "cell_type": "code",
   "execution_count": null,
   "id": "27e4727a",
   "metadata": {},
   "outputs": [],
   "source": []
  },
  {
   "cell_type": "code",
   "execution_count": 5,
   "id": "66da3a25",
   "metadata": {},
   "outputs": [
    {
     "data": {
      "text/plain": [
       "torch.device"
      ]
     },
     "execution_count": 5,
     "metadata": {},
     "output_type": "execute_result"
    }
   ],
   "source": [
    "import pandas as pd\n",
    "import json"
   ]
  },
  {
   "cell_type": "code",
   "execution_count": null,
   "id": "d07c44d1",
   "metadata": {},
   "outputs": [],
   "source": [
    "def remove_items(test_list, item):\n",
    " \n",
    "    # using list comprehension to perform the task\n",
    "    res = [i for i in test_list if i != item]\n",
    " \n",
    "    return res"
   ]
  },
  {
   "cell_type": "code",
   "execution_count": null,
   "id": "705e796b",
   "metadata": {},
   "outputs": [],
   "source": [
    "path='cifar_model/output.log'\n",
    "\n",
    "log_data=open(path,'r')\n",
    "result={}\n",
    "i=0\n",
    "for line in log_data:\n",
    "  columns = line.split('\\t') #or w/e you're delimiter/separator is\n",
    "  columns = [s.strip() for s in columns]\n",
    "  columns = remove_items(columns,'')\n",
    "  print(columns)\n",
    "  #data={}\n",
    "  print(\"Line\",line)\n",
    "    #print(columns)\n",
    "    # for c in columns:\n",
    "    #   print(c)\n",
    "      # key = c.split('-')[0]\n",
    "      # value=c.split('-')[1]\n",
    "      # data[key]=value\n",
    "  result[i]=columns\n",
    "  i+=1\n",
    "j=json.dumps(result)\n",
    "\n",
    "df=pd.read_json(j, orient='index')"
   ]
  },
  {
   "cell_type": "code",
   "execution_count": null,
   "id": "b6793b3b",
   "metadata": {},
   "outputs": [],
   "source": [
    "df"
   ]
  },
  {
   "cell_type": "code",
   "execution_count": null,
   "id": "1c69960d",
   "metadata": {},
   "outputs": [],
   "source": [
    "df.drop(0,axis=0,inplace=True)\n",
    "df"
   ]
  },
  {
   "cell_type": "code",
   "execution_count": null,
   "id": "62c65be6",
   "metadata": {},
   "outputs": [],
   "source": [
    "df.columns = df.iloc[0]\n",
    "df.drop(df.columns[0],axis=1,inplace=True)"
   ]
  },
  {
   "cell_type": "code",
   "execution_count": null,
   "id": "f57b1b47",
   "metadata": {},
   "outputs": [],
   "source": [
    "df['Train Acc']=df['Train Acc'].astype(float)\n",
    "df['Test Acc']= df['Test Acc'].astype(float)\n",
    "df = df.astype(float)\n",
    "df"
   ]
  },
  {
   "cell_type": "code",
   "execution_count": null,
   "id": "385b11ad",
   "metadata": {},
   "outputs": [],
   "source": [
    "plt.plot(df['Train Acc'],label='Training');\n",
    "plt.plot(df['Test Acc'],label='Testing');\n",
    "\n",
    "plt.xlabel('Epochs')\n",
    "plt.ylabel('Accuracy')\n",
    "plt.legend();\n",
    "plt.title('Accuracy')"
   ]
  },
  {
   "cell_type": "code",
   "execution_count": null,
   "id": "e4dd744f",
   "metadata": {},
   "outputs": [],
   "source": [
    "plt.plot(df['Train Loss'],label='Training');\n",
    "plt.plot(df['Test Loss'],label='Testing');\n",
    "\n",
    "plt.xlabel('Epochs')\n",
    "plt.ylabel('Loss')\n",
    "plt.title('Training Loss')\n",
    "plt.legend();"
   ]
  },
  {
   "cell_type": "code",
   "execution_count": null,
   "id": "60628e85",
   "metadata": {},
   "outputs": [],
   "source": [
    "plt.plot(df['Train Robust Acc'],label='Training');\n",
    "plt.plot(df['Test Robust Acc'],label='Testing');\n",
    "\n",
    "plt.xlabel('Epochs')\n",
    "plt.ylabel('Accuracy')\n",
    "plt.legend();\n",
    "plt.title('Robust Accuracy')"
   ]
  },
  {
   "cell_type": "code",
   "execution_count": null,
   "id": "7b8fc3a9",
   "metadata": {},
   "outputs": [],
   "source": [
    "plt.plot(df['Train Robust Loss'],label='Training');\n",
    "plt.plot(df['Test Robust Loss'],label='Testing');\n",
    "\n",
    "plt.xlabel('Epochs')\n",
    "plt.ylabel('Loss')\n",
    "plt.title('Robust Loss')\n",
    "plt.legend();"
   ]
  },
  {
   "cell_type": "code",
   "execution_count": null,
   "id": "71c3babd",
   "metadata": {},
   "outputs": [],
   "source": [
    "plt.plot(df.LR)\n",
    "plt.title('Learning Rate schedule');"
   ]
  }
 ],
 "metadata": {
  "kernelspec": {
   "display_name": "Python 3 (ipykernel)",
   "language": "python",
   "name": "python3"
  },
  "language_info": {
   "codemirror_mode": {
    "name": "ipython",
    "version": 3
   },
   "file_extension": ".py",
   "mimetype": "text/x-python",
   "name": "python",
   "nbconvert_exporter": "python",
   "pygments_lexer": "ipython3",
   "version": "3.9.13"
  }
 },
 "nbformat": 4,
 "nbformat_minor": 5
}
